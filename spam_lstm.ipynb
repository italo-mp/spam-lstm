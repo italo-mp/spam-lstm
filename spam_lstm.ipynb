{
 "cells": [
  {
   "cell_type": "markdown",
   "metadata": {},
   "source": [
    "### Rede Neural LSTM\n",
    "   Objetivo da rede é identificar se determinado e-mail é spam ou ham dependendo do seu conteúdo. \n",
    "   Foi utilizada a Rede RNN LSTM"
   ]
  },
  {
   "cell_type": "code",
   "execution_count": 1,
   "metadata": {},
   "outputs": [],
   "source": [
    "import os\n",
    "import sys\n",
    "import numpy as np\n",
    "import pandas as pd\n",
    "import matplotlib.pyplot as plt"
   ]
  },
  {
   "cell_type": "code",
   "execution_count": 2,
   "metadata": {},
   "outputs": [
    {
     "name": "stderr",
     "output_type": "stream",
     "text": [
      "Using TensorFlow backend.\n"
     ]
    }
   ],
   "source": [
    "from keras.models import Model\n",
    "from keras.layers import Dense, Embedding, Input\n",
    "from keras.layers import LSTM\n",
    "from keras.preprocessing.text import Tokenizer\n",
    "from keras.preprocessing.sequence import pad_sequences\n",
    "from keras.optimizers import Adam\n",
    "from sklearn.metrics import roc_auc_score\n",
    "from sklearn.preprocessing import LabelEncoder"
   ]
  },
  {
   "cell_type": "code",
   "execution_count": 3,
   "metadata": {},
   "outputs": [],
   "source": [
    "MAX_SENTENCE_LENGTH = 150\n",
    "VOCABULARY_SIZE = 2000\n",
    "VECTOR_DIM = 100\n",
    "TRAIN_TEST_SPLIT = 0.2\n",
    "BATCH_SIZE = 64\n",
    "EPOCHS = 10"
   ]
  },
  {
   "cell_type": "code",
   "execution_count": 4,
   "metadata": {},
   "outputs": [
    {
     "name": "stdout",
     "output_type": "stream",
     "text": [
      "Carregando vetor de palavras pré-treinadas\n",
      "Total embedding vectors:400000\n"
     ]
    }
   ],
   "source": [
    "print('Carregando vetor de palavras pré-treinadas')\n",
    "\n",
    "embedding_dic = {}\n",
    "\n",
    "with open ('./glove.6b.100d.txt', encoding=\"utf8\") as vector_list:\n",
    "    for line in vector_list:\n",
    "        dimensions = line.split()\n",
    "        word = dimensions[0]\n",
    "        vector = np.asarray(dimensions[1:], dtype='float32')\n",
    "        embedding_dic[word] = vector\n",
    "        \n",
    "print(\"Total embedding vectors:\"+str(len(embedding_dic)))"
   ]
  },
  {
   "cell_type": "code",
   "execution_count": 5,
   "metadata": {},
   "outputs": [
    {
     "data": {
      "text/html": [
       "<div>\n",
       "<style scoped>\n",
       "    .dataframe tbody tr th:only-of-type {\n",
       "        vertical-align: middle;\n",
       "    }\n",
       "\n",
       "    .dataframe tbody tr th {\n",
       "        vertical-align: top;\n",
       "    }\n",
       "\n",
       "    .dataframe thead th {\n",
       "        text-align: right;\n",
       "    }\n",
       "</style>\n",
       "<table border=\"1\" class=\"dataframe\">\n",
       "  <thead>\n",
       "    <tr style=\"text-align: right;\">\n",
       "      <th></th>\n",
       "      <th>v1</th>\n",
       "      <th>v2</th>\n",
       "      <th>Unnamed: 2</th>\n",
       "      <th>Unnamed: 3</th>\n",
       "      <th>Unnamed: 4</th>\n",
       "    </tr>\n",
       "  </thead>\n",
       "  <tbody>\n",
       "    <tr>\n",
       "      <th>0</th>\n",
       "      <td>ham</td>\n",
       "      <td>Go until jurong point, crazy.. Available only ...</td>\n",
       "      <td>NaN</td>\n",
       "      <td>NaN</td>\n",
       "      <td>NaN</td>\n",
       "    </tr>\n",
       "    <tr>\n",
       "      <th>1</th>\n",
       "      <td>ham</td>\n",
       "      <td>Ok lar... Joking wif u oni...</td>\n",
       "      <td>NaN</td>\n",
       "      <td>NaN</td>\n",
       "      <td>NaN</td>\n",
       "    </tr>\n",
       "    <tr>\n",
       "      <th>2</th>\n",
       "      <td>spam</td>\n",
       "      <td>Free entry in 2 a wkly comp to win FA Cup fina...</td>\n",
       "      <td>NaN</td>\n",
       "      <td>NaN</td>\n",
       "      <td>NaN</td>\n",
       "    </tr>\n",
       "    <tr>\n",
       "      <th>3</th>\n",
       "      <td>ham</td>\n",
       "      <td>U dun say so early hor... U c already then say...</td>\n",
       "      <td>NaN</td>\n",
       "      <td>NaN</td>\n",
       "      <td>NaN</td>\n",
       "    </tr>\n",
       "    <tr>\n",
       "      <th>4</th>\n",
       "      <td>ham</td>\n",
       "      <td>Nah I don't think he goes to usf, he lives aro...</td>\n",
       "      <td>NaN</td>\n",
       "      <td>NaN</td>\n",
       "      <td>NaN</td>\n",
       "    </tr>\n",
       "  </tbody>\n",
       "</table>\n",
       "</div>"
      ],
      "text/plain": [
       "     v1                                                 v2 Unnamed: 2  \\\n",
       "0   ham  Go until jurong point, crazy.. Available only ...        NaN   \n",
       "1   ham                      Ok lar... Joking wif u oni...        NaN   \n",
       "2  spam  Free entry in 2 a wkly comp to win FA Cup fina...        NaN   \n",
       "3   ham  U dun say so early hor... U c already then say...        NaN   \n",
       "4   ham  Nah I don't think he goes to usf, he lives aro...        NaN   \n",
       "\n",
       "  Unnamed: 3 Unnamed: 4  \n",
       "0        NaN        NaN  \n",
       "1        NaN        NaN  \n",
       "2        NaN        NaN  \n",
       "3        NaN        NaN  \n",
       "4        NaN        NaN  "
      ]
     },
     "execution_count": 5,
     "metadata": {},
     "output_type": "execute_result"
    }
   ],
   "source": [
    "email_data = pd.read_csv('./spam.csv', delimiter=',', encoding='latin-1')\n",
    "email_data.head()"
   ]
  },
  {
   "cell_type": "code",
   "execution_count": 6,
   "metadata": {},
   "outputs": [
    {
     "name": "stdout",
     "output_type": "stream",
     "text": [
      "<class 'pandas.core.frame.DataFrame'>\n",
      "RangeIndex: 5572 entries, 0 to 5571\n",
      "Data columns (total 2 columns):\n",
      "v1    5572 non-null object\n",
      "v2    5572 non-null object\n",
      "dtypes: object(2)\n",
      "memory usage: 87.1+ KB\n"
     ]
    }
   ],
   "source": [
    "email_data.drop(['Unnamed: 2','Unnamed: 3', 'Unnamed: 4'], axis=1, inplace=True)\n",
    "email_data.info()"
   ]
  },
  {
   "cell_type": "code",
   "execution_count": 7,
   "metadata": {},
   "outputs": [
    {
     "name": "stdout",
     "output_type": "stream",
     "text": [
      "['Go until jurong point, crazy.. Available only in bugis n great world la e buffet... Cine there got amore wat...'\n",
      " 'Ok lar... Joking wif u oni...'\n",
      " \"Free entry in 2 a wkly comp to win FA Cup final tkts 21st May 2005. Text FA to 87121 to receive entry question(std txt rate)T&C's apply 08452810075over18's\"\n",
      " 'U dun say so early hor... U c already then say...'\n",
      " \"Nah I don't think he goes to usf, he lives around here though\"\n",
      " \"FreeMsg Hey there darling it's been 3 week's now and no word back! I'd like some fun you up for it still? Tb ok! XxX std chgs to send, å£1.50 to rcv\"\n",
      " 'Even my brother is not like to speak with me. They treat me like aids patent.'\n",
      " \"As per your request 'Melle Melle (Oru Minnaminunginte Nurungu Vettam)' has been set as your callertune for all Callers. Press *9 to copy your friends Callertune\"\n",
      " 'WINNER!! As a valued network customer you have been selected to receivea å£900 prize reward! To claim call 09061701461. Claim code KL341. Valid 12 hours only.'\n",
      " 'Had your mobile 11 months or more? U R entitled to Update to the latest colour mobiles with camera for Free! Call The Mobile Update Co FREE on 08002986030']\n"
     ]
    }
   ],
   "source": [
    "emails = email_data[\"v2\"].fillna(\"DUMMY_VALUES\").values\n",
    "labels = email_data[\"v1\"]\n",
    "\n",
    "print(emails[:10])"
   ]
  },
  {
   "cell_type": "code",
   "execution_count": 8,
   "metadata": {},
   "outputs": [],
   "source": [
    "le = LabelEncoder()\n",
    "labels = le.fit_transform(labels)\n",
    "labels = labels.reshape(-1,1)"
   ]
  },
  {
   "cell_type": "code",
   "execution_count": 9,
   "metadata": {},
   "outputs": [
    {
     "name": "stdout",
     "output_type": "stream",
     "text": [
      "Emails em texto -> Go until jurong point, crazy.. Available only in bugis n great world la e buffet... Cine there got amore wat...\n",
      "Emails em formato numérico -> [50, 469, 841, 751, 657, 64, 8, 1324, 89, 121, 349, 1325, 147, 1326, 67, 58, 144]\n",
      "Emails numéricos padronizados com tamanho 100 -> \n",
      "[   0    0    0    0    0    0    0    0    0    0    0    0    0    0\n",
      "    0    0    0    0    0    0    0    0    0    0    0    0    0    0\n",
      "    0    0    0    0    0    0    0    0    0    0    0    0    0    0\n",
      "    0    0    0    0    0    0    0    0    0    0    0    0    0    0\n",
      "    0    0    0    0    0    0    0    0    0    0    0    0    0    0\n",
      "    0    0    0    0    0    0    0    0    0    0    0    0    0    0\n",
      "    0    0    0    0    0    0    0    0    0    0    0    0    0    0\n",
      "    0    0    0    0    0    0    0    0    0    0    0    0    0    0\n",
      "    0    0    0    0    0    0    0    0    0    0    0    0    0    0\n",
      "    0    0    0    0    0    0    0   50  469  841  751  657   64    8\n",
      " 1324   89  121  349 1325  147 1326   67   58  144]\n"
     ]
    }
   ],
   "source": [
    "tok = Tokenizer(num_words=VOCABULARY_SIZE)\n",
    "\n",
    "tok.fit_on_texts(emails)\n",
    "print(\"Emails em texto -> \"+str(emails[0]))\n",
    "\n",
    "email_sequences = tok.texts_to_sequences(emails)\n",
    "print(\"Emails em formato numérico -> \"+str(email_sequences[0]))\n",
    "\n",
    "emails_sequence_matrix = pad_sequences(email_sequences, maxlen=MAX_SENTENCE_LENGTH)\n",
    "print(\"Emails numéricos padronizados com tamanho 100 -> \\n\"+str(emails_sequence_matrix[0]))\n"
   ]
  },
  {
   "cell_type": "code",
   "execution_count": 10,
   "metadata": {},
   "outputs": [
    {
     "name": "stdout",
     "output_type": "stream",
     "text": [
      "Quantidade de tokens únicos -> 8920\n"
     ]
    }
   ],
   "source": [
    "word2idx = tok.word_index\n",
    "print(\"Quantidade de tokens únicos -> \"+str(len(word2idx)))"
   ]
  },
  {
   "cell_type": "code",
   "execution_count": 11,
   "metadata": {},
   "outputs": [],
   "source": [
    "total_words =  min(VOCABULARY_SIZE, len(word2idx)+1)"
   ]
  },
  {
   "cell_type": "code",
   "execution_count": 12,
   "metadata": {},
   "outputs": [],
   "source": [
    "embedding_matrix = np.zeros((total_words, VECTOR_DIM))"
   ]
  },
  {
   "cell_type": "code",
   "execution_count": 13,
   "metadata": {},
   "outputs": [],
   "source": [
    "for word, index in word2idx.items():\n",
    "    if index < VOCABULARY_SIZE:\n",
    "        vector = embedding_dic.get(word)\n",
    "        if vector is not None:\n",
    "            embedding_matrix[index] = vector"
   ]
  },
  {
   "cell_type": "code",
   "execution_count": 14,
   "metadata": {},
   "outputs": [],
   "source": [
    "embedding_layer = Embedding(total_words, VECTOR_DIM, weights=[embedding_matrix],\n",
    "                           input_length=MAX_SENTENCE_LENGTH, trainable=False)"
   ]
  },
  {
   "cell_type": "code",
   "execution_count": 15,
   "metadata": {},
   "outputs": [
    {
     "name": "stdout",
     "output_type": "stream",
     "text": [
      "WARNING:tensorflow:From C:\\Users\\Italo\\Anaconda3\\lib\\site-packages\\tensorflow\\python\\framework\\op_def_library.py:263: colocate_with (from tensorflow.python.framework.ops) is deprecated and will be removed in a future version.\n",
      "Instructions for updating:\n",
      "Colocations handled automatically by placer.\n"
     ]
    }
   ],
   "source": [
    "input_ = Input(shape=(MAX_SENTENCE_LENGTH,))\n",
    "\n",
    "x = embedding_layer(input_)\n",
    "x = LSTM(20)(x)\n",
    "\n",
    "outuput = Dense(1, activation=\"sigmoid\")(x)\n",
    "\n",
    "model = Model(input_, outuput)\n",
    "model.compile(loss='binary_crossentropy', optimizer=Adam(lr=0.01), metrics=['accuracy'])"
   ]
  },
  {
   "cell_type": "code",
   "execution_count": 16,
   "metadata": {},
   "outputs": [
    {
     "name": "stdout",
     "output_type": "stream",
     "text": [
      "_________________________________________________________________\n",
      "Layer (type)                 Output Shape              Param #   \n",
      "=================================================================\n",
      "input_1 (InputLayer)         (None, 150)               0         \n",
      "_________________________________________________________________\n",
      "embedding_1 (Embedding)      (None, 150, 100)          200000    \n",
      "_________________________________________________________________\n",
      "lstm_1 (LSTM)                (None, 20)                9680      \n",
      "_________________________________________________________________\n",
      "dense_1 (Dense)              (None, 1)                 21        \n",
      "=================================================================\n",
      "Total params: 209,701\n",
      "Trainable params: 9,701\n",
      "Non-trainable params: 200,000\n",
      "_________________________________________________________________\n"
     ]
    }
   ],
   "source": [
    "model.summary()"
   ]
  },
  {
   "cell_type": "code",
   "execution_count": 17,
   "metadata": {},
   "outputs": [
    {
     "name": "stdout",
     "output_type": "stream",
     "text": [
      "Treinando modelo\n",
      "WARNING:tensorflow:From C:\\Users\\Italo\\Anaconda3\\lib\\site-packages\\tensorflow\\python\\ops\\math_ops.py:3066: to_int32 (from tensorflow.python.ops.math_ops) is deprecated and will be removed in a future version.\n",
      "Instructions for updating:\n",
      "Use tf.cast instead.\n",
      "Train on 4457 samples, validate on 1115 samples\n",
      "Epoch 1/10\n",
      "4457/4457 [==============================] - 7s 1ms/step - loss: 0.2441 - acc: 0.9008 - val_loss: 0.0770 - val_acc: 0.9776\n",
      "Epoch 2/10\n",
      "4457/4457 [==============================] - 6s 1ms/step - loss: 0.0782 - acc: 0.9762 - val_loss: 0.0556 - val_acc: 0.9794\n",
      "Epoch 3/10\n",
      "4457/4457 [==============================] - 6s 1ms/step - loss: 0.0497 - acc: 0.9852 - val_loss: 0.0475 - val_acc: 0.9839\n",
      "Epoch 4/10\n",
      "4457/4457 [==============================] - 6s 1ms/step - loss: 0.0359 - acc: 0.9899 - val_loss: 0.0526 - val_acc: 0.9830\n",
      "Epoch 5/10\n",
      "4457/4457 [==============================] - 6s 1ms/step - loss: 0.0266 - acc: 0.9944 - val_loss: 0.0437 - val_acc: 0.9839\n",
      "Epoch 6/10\n",
      "4457/4457 [==============================] - 6s 1ms/step - loss: 0.0200 - acc: 0.9939 - val_loss: 0.0484 - val_acc: 0.9839\n",
      "Epoch 7/10\n",
      "4457/4457 [==============================] - 6s 1ms/step - loss: 0.0209 - acc: 0.9924 - val_loss: 0.0377 - val_acc: 0.9901\n",
      "Epoch 8/10\n",
      "4457/4457 [==============================] - 6s 1ms/step - loss: 0.0128 - acc: 0.9957 - val_loss: 0.0419 - val_acc: 0.9874\n",
      "Epoch 9/10\n",
      "4457/4457 [==============================] - 6s 1ms/step - loss: 0.0112 - acc: 0.9966 - val_loss: 0.0356 - val_acc: 0.9910\n",
      "Epoch 10/10\n",
      "4457/4457 [==============================] - 6s 1ms/step - loss: 0.0058 - acc: 0.9984 - val_loss: 0.0411 - val_acc: 0.9883\n"
     ]
    }
   ],
   "source": [
    "print(\"Treinando modelo\")\n",
    "\n",
    "classifier = model.fit(emails_sequence_matrix, labels, batch_size=BATCH_SIZE, epochs=EPOCHS,\n",
    "                      validation_split=TRAIN_TEST_SPLIT)\n"
   ]
  },
  {
   "cell_type": "markdown",
   "metadata": {},
   "source": [
    "#### Conclusão\n",
    "\n",
    "  Foi utilizada poucas camadas e poucas épocas para treinamento, mas podemos observar que foi obtida uma acurácia muito boa de 98%.\n",
    "  A parte que demandou mais esforço foi o pré-processamento dos dados."
   ]
  },
  {
   "cell_type": "code",
   "execution_count": null,
   "metadata": {},
   "outputs": [],
   "source": []
  }
 ],
 "metadata": {
  "kernelspec": {
   "display_name": "Python 3",
   "language": "python",
   "name": "python3"
  },
  "language_info": {
   "codemirror_mode": {
    "name": "ipython",
    "version": 3
   },
   "file_extension": ".py",
   "mimetype": "text/x-python",
   "name": "python",
   "nbconvert_exporter": "python",
   "pygments_lexer": "ipython3",
   "version": "3.7.1"
  }
 },
 "nbformat": 4,
 "nbformat_minor": 2
}
